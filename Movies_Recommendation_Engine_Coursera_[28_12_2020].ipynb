{
  "nbformat": 4,
  "nbformat_minor": 0,
  "metadata": {
    "colab": {
      "name": "Movies_Recommendation_Engine_Coursera_[28.12.2020].ipynb",
      "provenance": [],
      "collapsed_sections": [],
      "toc_visible": true,
      "include_colab_link": true
    },
    "kernelspec": {
      "display_name": "Python 3",
      "language": "python",
      "name": "python3"
    },
    "language_info": {
      "codemirror_mode": {
        "name": "ipython",
        "version": 3
      },
      "file_extension": ".py",
      "mimetype": "text/x-python",
      "name": "python",
      "nbconvert_exporter": "python",
      "pygments_lexer": "ipython3",
      "version": "3.6.9"
    }
  },
  "cells": [
    {
      "cell_type": "markdown",
      "metadata": {
        "id": "view-in-github",
        "colab_type": "text"
      },
      "source": [
        "<a href=\"https://colab.research.google.com/github/goldenyasir/Notes/blob/main/Movies_Recommendation_Engine_Coursera_%5B28_12_2020%5D.ipynb\" target=\"_parent\"><img src=\"https://colab.research.google.com/assets/colab-badge.svg\" alt=\"Open In Colab\"/></a>"
      ]
    },
    {
      "cell_type": "markdown",
      "metadata": {
        "id": "u_0oQaUOA9CI"
      },
      "source": [
        "# Task 1: Introduction\n",
        "\n",
        "![Movies Collage](https://i.imgur.com/T7V0VZ6.png)\n",
        "\n",
        "For this project we are going to create a recommendation engine for movies for users based on there past behaviour.\n",
        "\n",
        "---\n",
        "\n",
        "We will focus on the **collaborative filtering** approach, that is: \n",
        "\n",
        "The user is recommended items that people with similar tastes and preferences liked in the past. In another word, this method predicts unknown ratings by using the similarities between users.\n",
        "\n",
        "---\n",
        "\n",
        "Note: This notebook uses `python 3` and these packages: `pandas`, `numpy`, `matplotlib` and `scikit-surprise`\n",
        "\n",
        "We can install them using:\n",
        "```Shell\n",
        "pip3 install pandas matplotlib numpy scikit-surprise\n",
        "```"
      ]
    },
    {
      "cell_type": "markdown",
      "metadata": {
        "id": "eMZcgcQsm-9y"
      },
      "source": [
        "## 1.1: Installing Libraries"
      ]
    },
    {
      "cell_type": "code",
      "metadata": {
        "colab": {
          "base_uri": "https://localhost:8080/"
        },
        "id": "HNmYMKhCnITm",
        "outputId": "9152b3d2-9a87-48af-afda-54f476019d30"
      },
      "source": [
        "print('>> Installing Libraries')\n",
        "\n",
        "!pip3 install pandas matplotlib numpy scikit-surprise\n",
        "\n",
        "print('>> Libraries Installed')"
      ],
      "execution_count": null,
      "outputs": [
        {
          "output_type": "stream",
          "text": [
            ">> Installing Libraries\n",
            "Requirement already satisfied: pandas in /usr/local/lib/python3.6/dist-packages (1.1.5)\n",
            "Requirement already satisfied: matplotlib in /usr/local/lib/python3.6/dist-packages (3.2.2)\n",
            "Requirement already satisfied: numpy in /usr/local/lib/python3.6/dist-packages (1.19.4)\n",
            "Collecting scikit-surprise\n",
            "\u001b[?25l  Downloading https://files.pythonhosted.org/packages/97/37/5d334adaf5ddd65da99fc65f6507e0e4599d092ba048f4302fe8775619e8/scikit-surprise-1.1.1.tar.gz (11.8MB)\n",
            "\u001b[K     |████████████████████████████████| 11.8MB 6.4MB/s \n",
            "\u001b[?25hRequirement already satisfied: pytz>=2017.2 in /usr/local/lib/python3.6/dist-packages (from pandas) (2018.9)\n",
            "Requirement already satisfied: python-dateutil>=2.7.3 in /usr/local/lib/python3.6/dist-packages (from pandas) (2.8.1)\n",
            "Requirement already satisfied: pyparsing!=2.0.4,!=2.1.2,!=2.1.6,>=2.0.1 in /usr/local/lib/python3.6/dist-packages (from matplotlib) (2.4.7)\n",
            "Requirement already satisfied: kiwisolver>=1.0.1 in /usr/local/lib/python3.6/dist-packages (from matplotlib) (1.3.1)\n",
            "Requirement already satisfied: cycler>=0.10 in /usr/local/lib/python3.6/dist-packages (from matplotlib) (0.10.0)\n",
            "Requirement already satisfied: joblib>=0.11 in /usr/local/lib/python3.6/dist-packages (from scikit-surprise) (1.0.0)\n",
            "Requirement already satisfied: scipy>=1.0.0 in /usr/local/lib/python3.6/dist-packages (from scikit-surprise) (1.4.1)\n",
            "Requirement already satisfied: six>=1.10.0 in /usr/local/lib/python3.6/dist-packages (from scikit-surprise) (1.15.0)\n",
            "Building wheels for collected packages: scikit-surprise\n",
            "  Building wheel for scikit-surprise (setup.py) ... \u001b[?25l\u001b[?25hdone\n",
            "  Created wheel for scikit-surprise: filename=scikit_surprise-1.1.1-cp36-cp36m-linux_x86_64.whl size=1618296 sha256=58b7d5ce12b8fce7d6e0d70cc90f412fa76909606e3d928bde05f1df778fb02d\n",
            "  Stored in directory: /root/.cache/pip/wheels/78/9c/3d/41b419c9d2aff5b6e2b4c0fc8d25c538202834058f9ed110d0\n",
            "Successfully built scikit-surprise\n",
            "Installing collected packages: scikit-surprise\n",
            "Successfully installed scikit-surprise-1.1.1\n",
            ">> Libraries Installed\n"
          ],
          "name": "stdout"
        }
      ]
    },
    {
      "cell_type": "markdown",
      "metadata": {
        "id": "FYwbN6KqJjPo"
      },
      "source": [
        "## 1.2: Importing Libraries\n",
        "\n",
        "First of all, we will need to import some libraries. This includes surprise which we will use to create the recommendation system."
      ]
    },
    {
      "cell_type": "code",
      "metadata": {
        "colab": {
          "base_uri": "https://localhost:8080/"
        },
        "id": "5OGYBAjxAzLC",
        "outputId": "243ca620-57e4-443c-9225-f4931bb00a3e"
      },
      "source": [
        "print('>> Importing Libraries')\n",
        "\n",
        "import pandas as pd\n",
        "\n",
        "from surprise import Reader, Dataset, SVD\n",
        "\n",
        "from surprise.accuracy import rmse, mae\n",
        "from surprise.model_selection import cross_validate\n",
        "\n",
        "print('>> Libraries imported.')"
      ],
      "execution_count": null,
      "outputs": [
        {
          "output_type": "stream",
          "text": [
            ">> Importing Libraries\n",
            ">> Libraries imported.\n"
          ],
          "name": "stdout"
        }
      ]
    },
    {
      "cell_type": "markdown",
      "metadata": {
        "id": "Zg9d8GR6A_rr"
      },
      "source": [
        "# Task 2: Importing Data\n",
        "\n",
        "We will use open-source dataset from GroupLens Research ([movielens.org](http://movielens.org))"
      ]
    },
    {
      "cell_type": "markdown",
      "metadata": {
        "id": "vS0k5tdWKSfZ"
      },
      "source": [
        "## 2.1: Importing the Data\n",
        "\n",
        "The dataset is saved in a `ratings.csv` file. We will use pandas to take a look at some of the rows."
      ]
    },
    {
      "cell_type": "code",
      "metadata": {
        "colab": {
          "base_uri": "https://localhost:8080/",
          "height": 204
        },
        "id": "3lbOmdPwKsPm",
        "outputId": "b5a5bb58-e0d4-43a7-d93c-2321ea4a10ab"
      },
      "source": [
        "df = pd.read_csv (\"ratings.csv\")\n",
        "df.head()\n",
        "#df.describe()"
      ],
      "execution_count": null,
      "outputs": [
        {
          "output_type": "execute_result",
          "data": {
            "text/html": [
              "<div>\n",
              "<style scoped>\n",
              "    .dataframe tbody tr th:only-of-type {\n",
              "        vertical-align: middle;\n",
              "    }\n",
              "\n",
              "    .dataframe tbody tr th {\n",
              "        vertical-align: top;\n",
              "    }\n",
              "\n",
              "    .dataframe thead th {\n",
              "        text-align: right;\n",
              "    }\n",
              "</style>\n",
              "<table border=\"1\" class=\"dataframe\">\n",
              "  <thead>\n",
              "    <tr style=\"text-align: right;\">\n",
              "      <th></th>\n",
              "      <th>userId</th>\n",
              "      <th>movieId</th>\n",
              "      <th>rating</th>\n",
              "      <th>timestamp</th>\n",
              "    </tr>\n",
              "  </thead>\n",
              "  <tbody>\n",
              "    <tr>\n",
              "      <th>0</th>\n",
              "      <td>1</td>\n",
              "      <td>1</td>\n",
              "      <td>4.0</td>\n",
              "      <td>964982703</td>\n",
              "    </tr>\n",
              "    <tr>\n",
              "      <th>1</th>\n",
              "      <td>1</td>\n",
              "      <td>3</td>\n",
              "      <td>4.0</td>\n",
              "      <td>964981247</td>\n",
              "    </tr>\n",
              "    <tr>\n",
              "      <th>2</th>\n",
              "      <td>1</td>\n",
              "      <td>6</td>\n",
              "      <td>4.0</td>\n",
              "      <td>964982224</td>\n",
              "    </tr>\n",
              "    <tr>\n",
              "      <th>3</th>\n",
              "      <td>1</td>\n",
              "      <td>47</td>\n",
              "      <td>5.0</td>\n",
              "      <td>964983815</td>\n",
              "    </tr>\n",
              "    <tr>\n",
              "      <th>4</th>\n",
              "      <td>1</td>\n",
              "      <td>50</td>\n",
              "      <td>5.0</td>\n",
              "      <td>964982931</td>\n",
              "    </tr>\n",
              "  </tbody>\n",
              "</table>\n",
              "</div>"
            ],
            "text/plain": [
              "   userId  movieId  rating  timestamp\n",
              "0       1        1     4.0  964982703\n",
              "1       1        3     4.0  964981247\n",
              "2       1        6     4.0  964982224\n",
              "3       1       47     5.0  964983815\n",
              "4       1       50     5.0  964982931"
            ]
          },
          "metadata": {
            "tags": []
          },
          "execution_count": 4
        }
      ]
    },
    {
      "cell_type": "markdown",
      "metadata": {
        "id": "GvUhDQIgLOEY"
      },
      "source": [
        "## 2.2 Dropping timestamp\n",
        "\n",
        "We won't be using the timestamp when user gave the particular rating. So we will drop that column."
      ]
    },
    {
      "cell_type": "code",
      "metadata": {
        "colab": {
          "base_uri": "https://localhost:8080/",
          "height": 204
        },
        "id": "TXvWh3duLjiP",
        "outputId": "04ecf035-dae3-45f9-9c6c-7c42a6c975fa"
      },
      "source": [
        "df.drop('timestamp', axis=1, inplace=True)\n",
        "df.head()"
      ],
      "execution_count": null,
      "outputs": [
        {
          "output_type": "execute_result",
          "data": {
            "text/html": [
              "<div>\n",
              "<style scoped>\n",
              "    .dataframe tbody tr th:only-of-type {\n",
              "        vertical-align: middle;\n",
              "    }\n",
              "\n",
              "    .dataframe tbody tr th {\n",
              "        vertical-align: top;\n",
              "    }\n",
              "\n",
              "    .dataframe thead th {\n",
              "        text-align: right;\n",
              "    }\n",
              "</style>\n",
              "<table border=\"1\" class=\"dataframe\">\n",
              "  <thead>\n",
              "    <tr style=\"text-align: right;\">\n",
              "      <th></th>\n",
              "      <th>userId</th>\n",
              "      <th>movieId</th>\n",
              "      <th>rating</th>\n",
              "    </tr>\n",
              "  </thead>\n",
              "  <tbody>\n",
              "    <tr>\n",
              "      <th>0</th>\n",
              "      <td>1</td>\n",
              "      <td>1</td>\n",
              "      <td>4.0</td>\n",
              "    </tr>\n",
              "    <tr>\n",
              "      <th>1</th>\n",
              "      <td>1</td>\n",
              "      <td>3</td>\n",
              "      <td>4.0</td>\n",
              "    </tr>\n",
              "    <tr>\n",
              "      <th>2</th>\n",
              "      <td>1</td>\n",
              "      <td>6</td>\n",
              "      <td>4.0</td>\n",
              "    </tr>\n",
              "    <tr>\n",
              "      <th>3</th>\n",
              "      <td>1</td>\n",
              "      <td>47</td>\n",
              "      <td>5.0</td>\n",
              "    </tr>\n",
              "    <tr>\n",
              "      <th>4</th>\n",
              "      <td>1</td>\n",
              "      <td>50</td>\n",
              "      <td>5.0</td>\n",
              "    </tr>\n",
              "  </tbody>\n",
              "</table>\n",
              "</div>"
            ],
            "text/plain": [
              "   userId  movieId  rating\n",
              "0       1        1     4.0\n",
              "1       1        3     4.0\n",
              "2       1        6     4.0\n",
              "3       1       47     5.0\n",
              "4       1       50     5.0"
            ]
          },
          "metadata": {
            "tags": []
          },
          "execution_count": 5
        }
      ]
    },
    {
      "cell_type": "markdown",
      "metadata": {
        "id": "OPEBn0gAK-5m"
      },
      "source": [
        "## 2.3 Check for Missing Data\n",
        "\n",
        "It's a good practice to check if the data has any missing values. In real world data, this is quite common and must be taken care of before any data pre-processing or model training."
      ]
    },
    {
      "cell_type": "code",
      "metadata": {
        "colab": {
          "base_uri": "https://localhost:8080/"
        },
        "id": "BfBqk7KkLFV6",
        "outputId": "167304f9-aa30-4d9b-fb0c-0d32fd129775"
      },
      "source": [
        "df.isna().sum()"
      ],
      "execution_count": null,
      "outputs": [
        {
          "output_type": "execute_result",
          "data": {
            "text/plain": [
              "userId     0\n",
              "movieId    0\n",
              "rating     0\n",
              "dtype: int64"
            ]
          },
          "metadata": {
            "tags": []
          },
          "execution_count": 6
        }
      ]
    },
    {
      "cell_type": "markdown",
      "metadata": {
        "id": "FQYVA-J5MCUG"
      },
      "source": [
        "# Task 3: EDA (Exploratory data analysis)\n",
        "\n",
        "In statistics, exploratory data analysis is an approach to analyzing data sets to summarize their main characteristics."
      ]
    },
    {
      "cell_type": "markdown",
      "metadata": {
        "id": "XJ0CD6ZiOpRI"
      },
      "source": [
        "## 3.1 Number of movies/users"
      ]
    },
    {
      "cell_type": "code",
      "metadata": {
        "colab": {
          "base_uri": "https://localhost:8080/"
        },
        "id": "vnEIeAO6Psj2",
        "outputId": "9c428509-416b-4573-f450-d30bed414637"
      },
      "source": [
        "n_movies = df[\"movieId\"].nunique() \n",
        "n_users = df[\"userId\"].nunique() \n",
        "\n",
        "print(f'Number of movies: {n_movies}')\n",
        "print(f'Number of users: {n_users}')"
      ],
      "execution_count": null,
      "outputs": [
        {
          "output_type": "stream",
          "text": [
            "Number of movies: 9724\n",
            "Number of users: 610\n"
          ],
          "name": "stdout"
        }
      ]
    },
    {
      "cell_type": "markdown",
      "metadata": {
        "id": "dclqP0iXOo_F"
      },
      "source": [
        "## 3.2 Sparsity of our data\n",
        "\n",
        "Sparsity (%) = `(No of missing values/ (Total Values))X100`"
      ]
    },
    {
      "cell_type": "code",
      "metadata": {
        "colab": {
          "base_uri": "https://localhost:8080/"
        },
        "id": "xPYF0zlfREMK",
        "outputId": "d420eea0-d936-4202-d0cc-a1ad157a9957"
      },
      "source": [
        "available_ratings = df['rating'].count()\n",
        "total_ratings = n_movies * n_users\n",
        "missing_ratings = total_ratings - available_ratings\n",
        "sparsity = (missing_ratings/total_ratings)*100\n",
        "print(available_ratings, total_ratings, missing_ratings)\n",
        "print(f'Sparsity(Seyreklik): {sparsity}%')"
      ],
      "execution_count": null,
      "outputs": [
        {
          "output_type": "stream",
          "text": [
            "100836 5931640 5830804\n",
            "Sparsity(Seyreklik): 98.30003169443864%\n"
          ],
          "name": "stdout"
        }
      ]
    },
    {
      "cell_type": "markdown",
      "metadata": {
        "id": "kcYDLtG5Ok_p"
      },
      "source": [
        "## 3.3 Ratings Distribution"
      ]
    },
    {
      "cell_type": "code",
      "metadata": {
        "colab": {
          "base_uri": "https://localhost:8080/",
          "height": 288
        },
        "id": "ZO7Mv-jdL4_z",
        "outputId": "ad8e7e28-3d75-4ab9-fd7d-34a33acbeccc"
      },
      "source": [
        "#df['rating'].value_counts().plot(kind='bar')\n",
        "#df['rating'].value_counts().sort_index().plot(kind='bar')\n",
        "df['rating'].value_counts().sort_index().plot.bar()"
      ],
      "execution_count": null,
      "outputs": [
        {
          "output_type": "execute_result",
          "data": {
            "text/plain": [
              "<matplotlib.axes._subplots.AxesSubplot at 0x7f2dd8661e80>"
            ]
          },
          "metadata": {
            "tags": []
          },
          "execution_count": 9
        },
        {
          "output_type": "display_data",
          "data": {
            "image/png": "[encoded data removed]",
            "text/plain": [
              "<Figure size 432x288 with 1 Axes>"
            ]
          },
          "metadata": {
            "tags": [],
            "needs_background": "light"
          }
        }
      ]
    },
    {
      "cell_type": "markdown",
      "metadata": {
        "id": "xdLsIItxSd9K"
      },
      "source": [
        "# Task 4: Dimensionality Reduction\n",
        "\n",
        "To reduce the dimensionality of the dataset, we will filter out rarely rated movies and rarely rating users"
      ]
    },
    {
      "cell_type": "markdown",
      "metadata": {
        "id": "i3jYt3m5TNVL"
      },
      "source": [
        "## 4.1 Filter movies with less than 3 ratings"
      ]
    },
    {
      "cell_type": "code",
      "metadata": {
        "id": "msZU9YSxSeUo"
      },
      "source": [
        "min_ratings = 3\n",
        "filter_movies = df['movieId'].value_counts() > min_ratings\n",
        "filter_movies = filter_movies[filter_movies].index.tolist()"
      ],
      "execution_count": null,
      "outputs": []
    },
    {
      "cell_type": "markdown",
      "metadata": {
        "id": "IYaMxlXcTdGS"
      },
      "source": [
        "## 4.2 Filter users with less than 3 movies rated"
      ]
    },
    {
      "cell_type": "code",
      "metadata": {
        "id": "WPeNAggIS-Y_"
      },
      "source": [
        "min_user_ratings = 3\n",
        "filter_users = df['userId'].value_counts() > min_user_ratings\n",
        "filter_users = filter_users[filter_users].index.tolist()"
      ],
      "execution_count": null,
      "outputs": []
    },
    {
      "cell_type": "markdown",
      "metadata": {
        "id": "c2LFIAGXT3ro"
      },
      "source": [
        "## 4.3 Remove rarely rated movies and rarely rating users"
      ]
    },
    {
      "cell_type": "code",
      "metadata": {
        "colab": {
          "base_uri": "https://localhost:8080/"
        },
        "id": "tTUG4ao6S_x7",
        "outputId": "a41f8ebd-99df-40c3-9c32-7dceb6b50ad8"
      },
      "source": [
        "print('The original data frame shape:\\t{}'.format(df.shape))\n",
        "df = df[(df['movieId'].isin(filter_movies)) & (df['userId'].isin(filter_users))]\n",
        "print('The new data frame shape:\\t{}'.format(df.shape))"
      ],
      "execution_count": null,
      "outputs": [
        {
          "output_type": "stream",
          "text": [
            "The original data frame shape:\t(100836, 3)\n",
            "The new data frame shape:\t(92394, 3)\n"
          ],
          "name": "stdout"
        }
      ]
    },
    {
      "cell_type": "markdown",
      "metadata": {
        "id": "TbviZWiPM3jQ"
      },
      "source": [
        "# Task 5: Create Training and Test Sets"
      ]
    },
    {
      "cell_type": "markdown",
      "metadata": {
        "id": "TIK2L0VuhbgA"
      },
      "source": [
        "## 5.1 Columns used for training"
      ]
    },
    {
      "cell_type": "code",
      "metadata": {
        "id": "bXF4dmJKhF7q"
      },
      "source": [
        "cols = ['userId', 'movieId', 'rating']"
      ],
      "execution_count": null,
      "outputs": []
    },
    {
      "cell_type": "markdown",
      "metadata": {
        "id": "J8rylnJmUjYk"
      },
      "source": [
        "## 5.2 Create surprise dataset"
      ]
    },
    {
      "cell_type": "code",
      "metadata": {
        "id": "4UOTMUssM6Tw"
      },
      "source": [
        "reader = Reader(rating_scale=(0.5, 5))\n",
        "data = Dataset.load_from_df(df[cols], reader)"
      ],
      "execution_count": null,
      "outputs": []
    },
    {
      "cell_type": "markdown",
      "metadata": {
        "id": "8lM--CdvguDz"
      },
      "source": [
        "## 5.3 Create Train-set and Prediction-set"
      ]
    },
    {
      "cell_type": "code",
      "metadata": {
        "id": "heITVvtvU1FD"
      },
      "source": [
        "trainset = data.build_full_trainset()\n",
        "antiset = trainset.build_anti_testset()"
      ],
      "execution_count": null,
      "outputs": []
    },
    {
      "cell_type": "markdown",
      "metadata": {
        "id": "AYfhHDReuO5h"
      },
      "source": [
        "# Task 6: Creating and training the model"
      ]
    },
    {
      "cell_type": "markdown",
      "metadata": {
        "id": "R4e28tFHubv9"
      },
      "source": [
        "## 6.1 Creating the model\n",
        "\n",
        "**SVD (Singular Value Decomposition)**\n",
        "\n",
        "Interaction Matrix = A X B X C"
      ]
    },
    {
      "cell_type": "code",
      "metadata": {
        "id": "Ft4rS3L-hqeS"
      },
      "source": [
        "algo = SVD(n_epochs = 25, verbose = True)"
      ],
      "execution_count": null,
      "outputs": []
    },
    {
      "cell_type": "markdown",
      "metadata": {
        "id": "h_16sRpXwahF"
      },
      "source": [
        "## 6.2 Training the model\n",
        "\n",
        "**Mean Absolute Error (MAE)**: MAE measures the average magnitude of the errors in a set of predictions, without considering their direction. \n",
        "\n",
        "**Root mean squared error (RMSE)**:  RMSE is the square root of the average of squared differences between prediction and actual observation."
      ]
    },
    {
      "cell_type": "code",
      "metadata": {
        "colab": {
          "base_uri": "https://localhost:8080/"
        },
        "id": "nh-E5DS5wYe_",
        "outputId": "1fe53194-b572-44d8-b917-c80b511b2ce2"
      },
      "source": [
        "cross_validate(algo, data, measures=['RMSE', 'MAE'], cv=5, verbose = True)\n",
        "print('>> Training Done')"
      ],
      "execution_count": null,
      "outputs": [
        {
          "output_type": "stream",
          "text": [
            "Processing epoch 0\n",
            "Processing epoch 1\n",
            "Processing epoch 2\n",
            "Processing epoch 3\n",
            "Processing epoch 4\n",
            "Processing epoch 5\n",
            "Processing epoch 6\n",
            "Processing epoch 7\n",
            "Processing epoch 8\n",
            "Processing epoch 9\n",
            "Processing epoch 10\n",
            "Processing epoch 11\n",
            "Processing epoch 12\n",
            "Processing epoch 13\n",
            "Processing epoch 14\n",
            "Processing epoch 15\n",
            "Processing epoch 16\n",
            "Processing epoch 17\n",
            "Processing epoch 18\n",
            "Processing epoch 19\n",
            "Processing epoch 20\n",
            "Processing epoch 21\n",
            "Processing epoch 22\n",
            "Processing epoch 23\n",
            "Processing epoch 24\n",
            "Processing epoch 0\n",
            "Processing epoch 1\n",
            "Processing epoch 2\n",
            "Processing epoch 3\n",
            "Processing epoch 4\n",
            "Processing epoch 5\n",
            "Processing epoch 6\n",
            "Processing epoch 7\n",
            "Processing epoch 8\n",
            "Processing epoch 9\n",
            "Processing epoch 10\n",
            "Processing epoch 11\n",
            "Processing epoch 12\n",
            "Processing epoch 13\n",
            "Processing epoch 14\n",
            "Processing epoch 15\n",
            "Processing epoch 16\n",
            "Processing epoch 17\n",
            "Processing epoch 18\n",
            "Processing epoch 19\n",
            "Processing epoch 20\n",
            "Processing epoch 21\n",
            "Processing epoch 22\n",
            "Processing epoch 23\n",
            "Processing epoch 24\n",
            "Processing epoch 0\n",
            "Processing epoch 1\n",
            "Processing epoch 2\n",
            "Processing epoch 3\n",
            "Processing epoch 4\n",
            "Processing epoch 5\n",
            "Processing epoch 6\n",
            "Processing epoch 7\n",
            "Processing epoch 8\n",
            "Processing epoch 9\n",
            "Processing epoch 10\n",
            "Processing epoch 11\n",
            "Processing epoch 12\n",
            "Processing epoch 13\n",
            "Processing epoch 14\n",
            "Processing epoch 15\n",
            "Processing epoch 16\n",
            "Processing epoch 17\n",
            "Processing epoch 18\n",
            "Processing epoch 19\n",
            "Processing epoch 20\n",
            "Processing epoch 21\n",
            "Processing epoch 22\n",
            "Processing epoch 23\n",
            "Processing epoch 24\n",
            "Processing epoch 0\n",
            "Processing epoch 1\n",
            "Processing epoch 2\n",
            "Processing epoch 3\n",
            "Processing epoch 4\n",
            "Processing epoch 5\n",
            "Processing epoch 6\n",
            "Processing epoch 7\n",
            "Processing epoch 8\n",
            "Processing epoch 9\n",
            "Processing epoch 10\n",
            "Processing epoch 11\n",
            "Processing epoch 12\n",
            "Processing epoch 13\n",
            "Processing epoch 14\n",
            "Processing epoch 15\n",
            "Processing epoch 16\n",
            "Processing epoch 17\n",
            "Processing epoch 18\n",
            "Processing epoch 19\n",
            "Processing epoch 20\n",
            "Processing epoch 21\n",
            "Processing epoch 22\n",
            "Processing epoch 23\n",
            "Processing epoch 24\n",
            "Processing epoch 0\n",
            "Processing epoch 1\n",
            "Processing epoch 2\n",
            "Processing epoch 3\n",
            "Processing epoch 4\n",
            "Processing epoch 5\n",
            "Processing epoch 6\n",
            "Processing epoch 7\n",
            "Processing epoch 8\n",
            "Processing epoch 9\n",
            "Processing epoch 10\n",
            "Processing epoch 11\n",
            "Processing epoch 12\n",
            "Processing epoch 13\n",
            "Processing epoch 14\n",
            "Processing epoch 15\n",
            "Processing epoch 16\n",
            "Processing epoch 17\n",
            "Processing epoch 18\n",
            "Processing epoch 19\n",
            "Processing epoch 20\n",
            "Processing epoch 21\n",
            "Processing epoch 22\n",
            "Processing epoch 23\n",
            "Processing epoch 24\n",
            "Evaluating RMSE, MAE of algorithm SVD on 5 split(s).\n",
            "\n",
            "                  Fold 1  Fold 2  Fold 3  Fold 4  Fold 5  Mean    Std     \n",
            "RMSE (testset)    0.8625  0.8569  0.8668  0.8651  0.8592  0.8621  0.0037  \n",
            "MAE (testset)     0.6621  0.6585  0.6642  0.6603  0.6579  0.6606  0.0023  \n",
            "Fit time          5.73    5.69    5.68    5.70    5.71    5.70    0.02    \n",
            "Test time         0.27    0.14    0.24    0.15    0.14    0.19    0.05    \n",
            ">> Training Done\n"
          ],
          "name": "stdout"
        }
      ]
    },
    {
      "cell_type": "markdown",
      "metadata": {
        "id": "zTnqbNt_xkKS"
      },
      "source": [
        "# Task 7: Predictions"
      ]
    },
    {
      "cell_type": "markdown",
      "metadata": {
        "id": "ma3oQr1Ax_Hg"
      },
      "source": [
        "## 7.1 Predict ratings for all pairs (user, items) that are NOT in the training set."
      ]
    },
    {
      "cell_type": "code",
      "metadata": {
        "id": "_K3EmIs3wxhW"
      },
      "source": [
        "predictions = algo.test(antiset)"
      ],
      "execution_count": null,
      "outputs": []
    },
    {
      "cell_type": "code",
      "metadata": {
        "colab": {
          "base_uri": "https://localhost:8080/"
        },
        "id": "RkqiEwM9z4Jf",
        "outputId": "9890426f-84b9-4e51-9064-bc260cd8c85e"
      },
      "source": [
        "predictions[0]"
      ],
      "execution_count": null,
      "outputs": [
        {
          "output_type": "execute_result",
          "data": {
            "text/plain": [
              "Prediction(uid=1, iid=318, r_ui=3.529119856267723, est=5, details={'was_impossible': False})"
            ]
          },
          "metadata": {
            "tags": []
          },
          "execution_count": 19
        }
      ]
    },
    {
      "cell_type": "markdown",
      "metadata": {
        "id": "lRmzGn63ze8b"
      },
      "source": [
        "## 7.2 Recommending top 3 movies movies based on predictions"
      ]
    },
    {
      "cell_type": "code",
      "metadata": {
        "colab": {
          "base_uri": "https://localhost:8080/"
        },
        "id": "q3Ugauv0119g",
        "outputId": "d596ae24-143a-41f8-e743-11d9d92612df"
      },
      "source": [
        "from collections import defaultdict\n",
        "def get_top_n(predictions, n):\n",
        "    # First map the predictions to each user.\n",
        "    top_n = defaultdict(list)\n",
        "    for uid, iid, true_r, est, _ in predictions:\n",
        "        top_n[uid].append((iid, est))\n",
        "\n",
        "    # Then sort the predictions for each user and retrieve the n highest ones.\n",
        "    for uid, user_ratings in top_n.items():\n",
        "        user_ratings.sort(key=lambda x: x[1], reverse=True)\n",
        "        top_n[uid] = user_ratings[:n]\n",
        "\n",
        "    return top_n\n",
        "top_n = get_top_n(predictions, n=3)\n",
        "for uid, user_ratings in top_n.items():\n",
        "    print(uid, [iid for (iid, rating) in user_ratings])"
      ],
      "execution_count": null,
      "outputs": [
        {
          "output_type": "stream",
          "text": [
            "1 [318, 48516, 58559]\n",
            "2 [1204, 750, 1252]\n",
            "3 [50, 1235, 750]\n",
            "4 [1212, 111, 318]\n",
            "5 [1204, 1262, 4973]\n",
            "6 [1104, 1252, 1035]\n",
            "7 [296, 3037, 1199]\n",
            "8 [858, 1204, 1221]\n",
            "9 [1204, 260, 750]\n",
            "10 [318, 7371, 8950]\n",
            "11 [1204, 858, 2542]\n",
            "12 [1, 50, 260]\n",
            "13 [527, 318, 1204]\n",
            "14 [1233, 1228, 1252]\n",
            "15 [1248, 908, 3060]\n",
            "16 [110, 1237, 1104]\n",
            "17 [1204, 1104, 1223]\n",
            "18 [750, 1104, 1250]\n",
            "19 [5618, 527, 4027]\n",
            "20 [2571, 922, 527]\n",
            "21 [2501, 1204, 3147]\n",
            "22 [1673, 750, 898]\n",
            "23 [1204, 905, 951]\n",
            "24 [1213, 922, 858]\n",
            "25 [1196, 1210, 1214]\n",
            "26 [1104, 1223, 4973]\n",
            "27 [1228, 318, 1204]\n",
            "28 [1204, 3030, 2692]\n",
            "29 [1235, 1237, 56782]\n",
            "30 [527, 1080, 1136]\n",
            "31 [1204, 1104, 1261]\n",
            "32 [4973, 2324, 79132]\n",
            "33 [260, 1223, 922]\n",
            "34 [2761, 2396, 1225]\n",
            "35 [608, 1204, 750]\n",
            "36 [1104, 2329, 1276]\n",
            "37 [50, 3030, 2959]\n",
            "38 [2019, 1223, 1204]\n",
            "39 [2959, 1237, 2076]\n",
            "40 [260, 2858, 1748]\n",
            "41 [148626, 1228, 2542]\n",
            "42 [4973, 1952, 44555]\n",
            "43 [6, 260, 441]\n",
            "44 [1204, 930, 904]\n",
            "45 [2542, 3703, 2288]\n",
            "46 [1204, 1104, 2160]\n",
            "47 [3972, 1223, 1235]\n",
            "48 [1136, 1212, 750]\n",
            "49 [3275, 750, 1204]\n",
            "50 [527, 1212, 2324]\n",
            "51 [1197, 2502, 2324]\n",
            "52 [908, 912, 1225]\n",
            "53 [1, 47, 50]\n",
            "54 [1204, 908, 1262]\n",
            "55 [318, 296, 750]\n",
            "56 [50, 48516, 1104]\n",
            "57 [318, 1089, 741]\n",
            "58 [4993, 1223, 1104]\n",
            "59 [318, 1204, 2542]\n",
            "60 [750, 3147, 1204]\n",
            "61 [527, 356, 2959]\n",
            "62 [1204, 1250, 1276]\n",
            "63 [951, 1204, 1293]\n",
            "64 [1172, 1223, 1104]\n",
            "65 [260, 1104, 1223]\n",
            "66 [2324, 2329, 79132]\n",
            "67 [1252, 1280, 908]\n",
            "68 [31658, 1204, 1178]\n",
            "69 [527, 1198, 2959]\n",
            "70 [1196, 7153, 2019]\n",
            "71 [1197, 1250, 3508]\n",
            "72 [1223, 2959, 1148]\n",
            "73 [1210, 1196, 50]\n",
            "74 [318, 904, 1223]\n",
            "75 [527, 1223, 318]\n",
            "76 [527, 5618, 1287]\n",
            "77 [1204, 1223, 1252]\n",
            "78 [527, 1247, 1223]\n",
            "79 [1208, 1104, 318]\n",
            "80 [1248, 1204, 750]\n",
            "81 [858, 1223, 1196]\n",
            "82 [1237, 67255, 750]\n",
            "83 [899, 1136, 1235]\n",
            "84 [1952, 1945, 2571]\n",
            "85 [8874, 2959, 858]\n",
            "86 [1223, 1204, 908]\n",
            "87 [1197, 1262, 1223]\n",
            "88 [1204, 7361, 1104]\n",
            "89 [1206, 923, 84152]\n",
            "90 [593, 750, 1225]\n",
            "91 [1233, 1250, 2858]\n",
            "92 [1204, 1223, 4973]\n",
            "93 [608, 1136, 1197]\n",
            "94 [2160, 2019, 3030]\n",
            "95 [858, 1732, 3451]\n",
            "96 [2959, 1208, 778]\n",
            "97 [356, 318, 1237]\n",
            "98 [3578, 1223, 1104]\n",
            "99 [50, 527, 1219]\n",
            "100 [912, 1262, 1104]\n",
            "101 [5618, 1204, 3275]\n",
            "102 [1136, 2858, 260]\n",
            "103 [3503, 541, 2160]\n",
            "104 [912, 1204, 908]\n",
            "105 [1276, 1262, 1223]\n",
            "106 [356, 1617, 750]\n",
            "107 [1204, 908, 4973]\n",
            "108 [1250, 1041, 923]\n",
            "109 [1204, 1276, 1250]\n",
            "110 [1262, 1204, 260]\n",
            "111 [1193, 1203, 1262]\n",
            "112 [296, 1223, 1199]\n",
            "113 [608, 2324, 541]\n",
            "114 [1104, 4973, 1267]\n",
            "115 [527, 912, 858]\n",
            "116 [1204, 2011, 1172]\n",
            "117 [1204, 1104, 1212]\n",
            "118 [908, 1204, 1235]\n",
            "119 [1217, 1104, 3508]\n",
            "120 [1237, 1245, 1104]\n",
            "121 [750, 1673, 1104]\n",
            "122 [1258, 2329, 475]\n",
            "123 [1204, 608, 1104]\n",
            "124 [2324, 2959, 1204]\n",
            "125 [1212, 2019, 750]\n",
            "126 [1104, 912, 1223]\n",
            "127 [1199, 1228, 858]\n",
            "128 [1104, 1204, 58559]\n",
            "129 [318, 1228, 908]\n",
            "130 [2959, 1213, 1089]\n",
            "131 [1204, 3275, 1250]\n",
            "132 [1178, 750, 1233]\n",
            "133 [541, 1204, 750]\n",
            "134 [318, 527, 1222]\n",
            "135 [1104, 904, 1208]\n",
            "136 [1272, 1262, 2324]\n",
            "137 [1223, 1104, 1178]\n",
            "138 [1223, 318, 1136]\n",
            "139 [1204, 50, 318]\n",
            "140 [1225, 177593, 745]\n",
            "141 [1104, 1204, 1217]\n",
            "142 [318, 4973, 2542]\n",
            "143 [1223, 908, 74458]\n",
            "144 [1204, 3275, 318]\n",
            "145 [1197, 1212, 4973]\n",
            "146 [750, 1104, 1204]\n",
            "147 [318, 3451, 1262]\n",
            "148 [318, 2160, 1212]\n",
            "149 [1104, 318, 1276]\n",
            "150 [1104, 912, 1250]\n",
            "151 [318, 750, 1204]\n",
            "152 [356, 3508, 1223]\n",
            "153 [750, 1136, 608]\n",
            "154 [318, 898, 4993]\n",
            "155 [1952, 2571, 1213]\n",
            "156 [2959, 2028, 2762]\n",
            "157 [318, 750, 858]\n",
            "158 [356, 318, 1204]\n",
            "159 [1204, 3451, 1225]\n",
            "160 [1732, 1193, 1207]\n",
            "161 [858, 4993, 2329]\n",
            "162 [1262, 1204, 1104]\n",
            "163 [1204, 1104, 2329]\n",
            "164 [3275, 912, 475]\n",
            "165 [1136, 1235, 1204]\n",
            "166 [898, 1262, 750]\n",
            "167 [1223, 1204, 2571]\n",
            "168 [1204, 318, 541]\n",
            "169 [58559, 475, 912]\n",
            "170 [1732, 1270, 1248]\n",
            "171 [50, 110, 1213]\n",
            "172 [1104, 904, 7153]\n",
            "173 [1204, 318, 904]\n",
            "174 [1204, 6350, 177593]\n",
            "175 [912, 908, 1193]\n",
            "176 [912, 1235, 1204]\n",
            "177 [3429, 1234, 952]\n",
            "178 [2160, 5618, 541]\n",
            "179 [1104, 2028, 1204]\n",
            "180 [318, 898, 50]\n",
            "181 [1204, 2324, 57669]\n",
            "182 [89745, 1178, 27773]\n",
            "183 [750, 318, 1104]\n",
            "184 [858, 1225, 2959]\n",
            "185 [48516, 58559, 318]\n",
            "186 [2329, 1104, 2160]\n",
            "187 [3037, 858, 1230]\n",
            "188 [318, 908, 1204]\n",
            "189 [1223, 933, 1204]\n",
            "190 [1204, 608, 34405]\n",
            "191 [2571, 1196, 4993]\n",
            "192 [1223, 912, 1104]\n",
            "193 [1233, 1204, 1221]\n",
            "194 [1276, 1204, 1104]\n",
            "195 [1198, 750, 142488]\n",
            "196 [318, 750, 1178]\n",
            "197 [1104, 2959, 750]\n",
            "198 [527, 858, 904]\n",
            "199 [905, 5618, 142488]\n",
            "200 [1247, 3836, 1237]\n",
            "201 [527, 318, 1276]\n",
            "202 [898, 527, 1258]\n",
            "203 [2959, 1193, 1209]\n",
            "204 [778, 2324, 110]\n",
            "205 [1223, 1204, 2028]\n",
            "206 [1204, 2959, 1262]\n",
            "207 [6711, 1225, 1262]\n",
            "208 [2959, 608, 1276]\n",
            "209 [1104, 55820, 3275]\n",
            "210 [908, 246, 1204]\n",
            "211 [2329, 4967, 1104]\n",
            "212 [1212, 1262, 2160]\n",
            "213 [527, 2959, 922]\n",
            "214 [318, 1237, 50]\n",
            "215 [5618, 2160, 720]\n",
            "216 [318, 1213, 3468]\n",
            "217 [1204, 1212, 17]\n",
            "218 [318, 912, 1228]\n",
            "219 [79132, 1104, 527]\n",
            "220 [1104, 898, 1252]\n",
            "221 [2329, 2160, 142488]\n",
            "222 [318, 750, 7361]\n",
            "223 [1223, 750, 1104]\n",
            "224 [318, 899, 1136]\n",
            "225 [1228, 74458, 1276]\n",
            "226 [898, 5618, 50]\n",
            "227 [1223, 1278, 2502]\n",
            "228 [58559, 1204, 1104]\n",
            "229 [1223, 1204, 2959]\n",
            "230 [71899, 6711, 1235]\n",
            "231 [750, 1104, 48516]\n",
            "232 [1252, 898, 177593]\n",
            "233 [1104, 1204, 1262]\n",
            "234 [527, 318, 912]\n",
            "235 [1104, 1204, 1262]\n",
            "236 [50, 296, 2959]\n",
            "237 [1235, 858, 8874]\n",
            "238 [1203, 50, 1197]\n",
            "239 [1223, 904, 1261]\n",
            "240 [608, 162, 898]\n",
            "241 [1204, 4011, 4993]\n",
            "242 [1204, 1945, 898]\n",
            "243 [5618, 2580, 1209]\n",
            "244 [296, 750, 4993]\n",
            "245 [1104, 1223, 930]\n",
            "246 [6711, 1235, 1237]\n",
            "247 [1262, 1104, 898]\n",
            "248 [1223, 4993, 318]\n",
            "249 [1204, 741, 1104]\n",
            "250 [1197, 58559, 912]\n",
            "251 [260, 1136, 858]\n",
            "252 [1223, 1104, 908]\n",
            "253 [318, 356, 750]\n",
            "254 [2324, 898, 3147]\n",
            "255 [750, 4993, 3275]\n",
            "256 [356, 898, 1204]\n",
            "257 [1204, 908, 1262]\n",
            "258 [356, 898, 1262]\n",
            "259 [4973, 1197, 2959]\n",
            "260 [1262, 1136, 2858]\n",
            "261 [1204, 1104, 2019]\n",
            "262 [1262, 1217, 1234]\n",
            "263 [1262, 904, 1248]\n",
            "264 [858, 318, 1204]\n",
            "265 [858, 1204, 1223]\n",
            "266 [1207, 858, 1249]\n",
            "267 [356, 527, 912]\n",
            "268 [908, 318, 1104]\n",
            "269 [858, 2329, 2959]\n",
            "270 [1210, 778, 3030]\n",
            "271 [1104, 1262, 1204]\n",
            "272 [2959, 1204, 1104]\n",
            "273 [318, 750, 1223]\n",
            "274 [1230, 1104, 1250]\n",
            "275 [48516, 2019, 7438]\n",
            "276 [47, 50, 296]\n",
            "277 [1223, 318, 1204]\n",
            "278 [1221, 858, 1223]\n",
            "279 [899, 1089, 1276]\n",
            "280 [318, 1104, 1204]\n",
            "281 [1262, 2959, 1204]\n",
            "282 [1252, 913, 1223]\n",
            "283 [1204, 1252, 898]\n",
            "284 [1204, 1237, 1276]\n",
            "285 [1250, 741, 750]\n",
            "286 [79132, 50, 2542]\n",
            "287 [1104, 1225, 1265]\n",
            "288 [858, 1248, 441]\n",
            "289 [1204, 1223, 296]\n",
            "290 [1212, 1223, 356]\n",
            "291 [1204, 318, 908]\n",
            "292 [1223, 1204, 908]\n",
            "293 [1262, 1223, 1104]\n",
            "294 [745, 4518, 2571]\n",
            "295 [5971, 1276, 1104]\n",
            "296 [858, 1221, 1208]\n",
            "297 [1204, 858, 260]\n",
            "298 [2324, 1090, 1199]\n",
            "299 [1204, 3275, 2692]\n",
            "300 [1262, 1203, 1248]\n",
            "301 [2028, 2324, 5995]\n",
            "302 [750, 2329, 1262]\n",
            "303 [4973, 48780, 1235]\n",
            "304 [1223, 7147, 142488]\n",
            "305 [1230, 741, 912]\n",
            "306 [318, 1945, 750]\n",
            "307 [27773, 94959, 2076]\n",
            "308 [28, 306, 8950]\n",
            "309 [1148, 1248, 858]\n",
            "310 [1237, 1208, 608]\n",
            "311 [1104, 1223, 7099]\n",
            "312 [1270, 318, 778]\n",
            "313 [923, 1952, 1225]\n",
            "314 [908, 1223, 1213]\n",
            "315 [318, 2324, 1237]\n",
            "316 [296, 4993, 750]\n",
            "317 [1276, 148626, 1172]\n",
            "318 [933, 5995, 1204]\n",
            "319 [4993, 148626, 1235]\n",
            "320 [908, 527, 898]\n",
            "321 [4011, 1237, 318]\n",
            "322 [1250, 1204, 67255]\n",
            "323 [750, 97304, 1262]\n",
            "324 [1223, 1204, 1136]\n",
            "325 [527, 1251, 1089]\n",
            "326 [1136, 72226, 750]\n",
            "327 [1204, 1248, 608]\n",
            "328 [2324, 92259, 44555]\n",
            "329 [1204, 908, 3147]\n",
            "330 [4973, 741, 922]\n",
            "331 [1222, 47, 4226]\n",
            "332 [5618, 1262, 1278]\n",
            "333 [1104, 1204, 904]\n",
            "334 [177593, 1262, 1104]\n",
            "335 [7361, 1223, 1104]\n",
            "336 [922, 1235, 1197]\n",
            "337 [527, 1196, 1213]\n",
            "338 [1270, 1237, 110]\n",
            "339 [1035, 1228, 2329]\n",
            "340 [1136, 2959, 1199]\n",
            "341 [1104, 1204, 898]\n",
            "342 [1247, 356, 1276]\n",
            "343 [750, 1223, 899]\n",
            "344 [1204, 1213, 3508]\n",
            "345 [1204, 1237, 1104]\n",
            "346 [1204, 318, 1148]\n",
            "347 [50, 1250, 1223]\n",
            "348 [1197, 904, 908]\n",
            "349 [1204, 1212, 1237]\n",
            "350 [1223, 1250, 912]\n",
            "351 [2324, 318, 2542]\n",
            "352 [1262, 1204, 1210]\n",
            "353 [1204, 1262, 898]\n",
            "354 [1276, 1209, 1262]\n",
            "355 [2959, 2542, 1247]\n",
            "356 [260, 2160, 1104]\n",
            "357 [1204, 1283, 1233]\n",
            "358 [527, 1223, 750]\n",
            "359 [1104, 177593, 1262]\n",
            "360 [527, 1204, 1234]\n",
            "361 [2289, 1223, 1673]\n",
            "362 [1204, 1223, 2692]\n",
            "363 [2959, 1262, 1673]\n",
            "364 [1204, 904, 1278]\n",
            "365 [1237, 28, 54001]\n",
            "366 [1223, 1104, 898]\n",
            "367 [2502, 441, 1200]\n",
            "368 [4226, 1104, 5618]\n",
            "369 [2502, 58559, 1104]\n",
            "370 [1148, 1104, 1230]\n",
            "371 [527, 608, 1136]\n",
            "372 [2959, 2324, 104879]\n",
            "373 [5618, 1278, 2959]\n",
            "374 [1212, 1089, 1213]\n",
            "375 [1262, 2959, 296]\n",
            "376 [3508, 908, 318]\n",
            "377 [260, 1204, 3451]\n",
            "378 [260, 1248, 1276]\n",
            "379 [541, 608, 2160]\n",
            "380 [1090, 2858, 2732]\n",
            "381 [1104, 2019, 1225]\n",
            "382 [1276, 1223, 953]\n",
            "383 [750, 1104, 898]\n",
            "384 [2324, 1089, 1196]\n",
            "385 [527, 1252, 1223]\n",
            "386 [1204, 1248, 44555]\n",
            "387 [79132, 6711, 3468]\n",
            "388 [1213, 3147, 2959]\n",
            "389 [1213, 750, 1223]\n",
            "390 [318, 1411, 1235]\n",
            "391 [27773, 1276, 1203]\n",
            "392 [50, 318, 1276]\n",
            "393 [5995, 45210, 67087]\n",
            "394 [1104, 1217, 1276]\n",
            "395 [1249, 1204, 908]\n",
            "396 [356, 1247, 912]\n",
            "397 [904, 1250, 318]\n",
            "398 [1945, 913, 2959]\n",
            "399 [914, 1223, 7090]\n",
            "400 [1223, 4973, 5618]\n",
            "401 [750, 48516, 908]\n",
            "402 [1104, 1204, 1223]\n",
            "403 [1104, 318, 1225]\n",
            "404 [1104, 1223, 1262]\n",
            "405 [2160, 1235, 56782]\n",
            "406 [475, 750, 593]\n",
            "407 [1204, 750, 1223]\n",
            "408 [1104, 1197, 4973]\n",
            "409 [1223, 1204, 908]\n",
            "410 [475, 1213, 1209]\n",
            "411 [2160, 912, 1204]\n",
            "412 [1204, 745, 1104]\n",
            "413 [3578, 908, 1203]\n",
            "414 [2324, 3451, 1258]\n",
            "415 [527, 1104, 1223]\n",
            "416 [110, 94959, 908]\n",
            "417 [1237, 1204, 608]\n",
            "418 [110, 168252, 3030]\n",
            "419 [1249, 1223, 78499]\n",
            "420 [1248, 1204, 1276]\n",
            "421 [1204, 2959, 296]\n",
            "422 [1136, 1089, 541]\n",
            "423 [1204, 3030, 1276]\n",
            "424 [4993, 1945, 1209]\n",
            "425 [1204, 2160, 8132]\n",
            "426 [908, 898, 265]\n",
            "427 [910, 1198, 1248]\n",
            "428 [1233, 858, 1203]\n",
            "429 [527, 1136, 908]\n",
            "430 [2959, 2160, 47]\n",
            "431 [1104, 2160, 475]\n",
            "432 [1213, 1208, 1237]\n",
            "433 [3147, 3508, 1719]\n",
            "434 [79132, 912, 3949]\n",
            "435 [2329, 1228, 922]\n",
            "436 [1204, 1104, 1252]\n",
            "437 [2571, 593, 898]\n",
            "438 [1223, 750, 1252]\n",
            "439 [260, 1262, 1196]\n",
            "440 [908, 1104, 1225]\n",
            "441 [1197, 318, 1223]\n",
            "442 [858, 318, 7361]\n",
            "443 [912, 908, 750]\n",
            "444 [1204, 2571, 58559]\n",
            "445 [904, 1204, 1248]\n",
            "446 [318, 1204, 1223]\n",
            "447 [50, 1212, 1219]\n",
            "448 [904, 1732, 318]\n",
            "449 [1104, 4993, 858]\n",
            "450 [750, 1104, 1204]\n",
            "451 [318, 1252, 1249]\n",
            "452 [441, 954, 1213]\n",
            "453 [1270, 78499, 48516]\n",
            "454 [2959, 2324, 318]\n",
            "455 [3508, 1276, 1204]\n",
            "456 [904, 1223, 1104]\n",
            "457 [1104, 4973, 7153]\n",
            "458 [318, 1204, 1104]\n",
            "459 [1104, 1262, 356]\n",
            "460 [1276, 1225, 2028]\n",
            "461 [2160, 1212, 177593]\n",
            "462 [55247, 6016, 3470]\n",
            "463 [1235, 1104, 2289]\n",
            "464 [1198, 1204, 1090]\n",
            "465 [318, 1104, 1262]\n",
            "466 [1204, 1262, 750]\n",
            "467 [318, 2959, 71899]\n",
            "468 [1204, 2571, 2959]\n",
            "469 [1223, 1041, 1280]\n",
            "470 [3451, 1237, 1104]\n",
            "471 [318, 1204, 1276]\n",
            "472 [898, 1204, 1249]\n",
            "473 [1104, 1223, 1237]\n",
            "474 [441, 80489, 58559]\n",
            "475 [356, 1197, 318]\n",
            "476 [1276, 1204, 1248]\n",
            "477 [912, 899, 1172]\n",
            "478 [1223, 913, 1204]\n",
            "479 [318, 111, 1136]\n",
            "480 [1178, 904, 1172]\n",
            "481 [527, 1204, 318]\n",
            "482 [318, 3508, 1213]\n",
            "483 [3030, 750, 1104]\n",
            "484 [750, 1136, 1204]\n",
            "485 [1262, 1197, 5971]\n",
            "486 [1204, 1223, 2289]\n",
            "487 [1204, 1248, 1209]\n",
            "488 [1104, 356, 50]\n",
            "489 [4011, 527, 318]\n",
            "490 [3996, 1104, 750]\n",
            "491 [318, 908, 912]\n",
            "492 [1204, 1212, 1250]\n",
            "493 [912, 1212, 1223]\n",
            "494 [1225, 111, 2019]\n",
            "495 [750, 1223, 56367]\n",
            "496 [1204, 260, 1196]\n",
            "497 [1212, 1262, 1089]\n",
            "498 [4973, 912, 1204]\n",
            "499 [2160, 2329, 68157]\n",
            "500 [296, 318, 593]\n",
            "501 [1204, 908, 260]\n",
            "502 [1204, 1277, 608]\n",
            "503 [904, 1148, 4848]\n",
            "504 [318, 904, 898]\n",
            "505 [1197, 2571, 48516]\n",
            "506 [2959, 1104, 1262]\n",
            "507 [1204, 908, 1104]\n",
            "508 [1204, 1223, 1197]\n",
            "509 [318, 1248, 1276]\n",
            "510 [2324, 48516, 555]\n",
            "511 [1237, 1225, 858]\n",
            "512 [741, 1204, 2959]\n",
            "513 [908, 1262, 1276]\n",
            "514 [1204, 1208, 741]\n",
            "515 [110, 1197, 1208]\n",
            "516 [318, 1193, 1104]\n",
            "517 [4160, 608, 1217]\n",
            "518 [1204, 904, 318]\n",
            "519 [1204, 527, 1104]\n",
            "520 [912, 1148, 50]\n",
            "521 [1262, 318, 1104]\n",
            "522 [2019, 1206, 741]\n",
            "523 [50, 1197, 1213]\n",
            "524 [4973, 1276, 7153]\n",
            "525 [1104, 1276, 1223]\n",
            "526 [1204, 1249, 2160]\n",
            "527 [293, 4993, 1204]\n",
            "528 [1228, 1283, 318]\n",
            "529 [3275, 4993, 1104]\n",
            "530 [1204, 318, 750]\n",
            "531 [110, 1104, 1223]\n",
            "532 [898, 2542, 3578]\n",
            "533 [318, 1104, 1237]\n",
            "534 [1204, 1209, 541]\n",
            "535 [1213, 1223, 5618]\n",
            "536 [318, 50, 912]\n",
            "537 [1719, 1197, 2288]\n",
            "538 [50, 527, 1208]\n",
            "539 [58559, 899, 50]\n",
            "540 [318, 2858, 50]\n",
            "541 [1223, 1196, 1952]\n",
            "542 [1673, 1148, 1223]\n",
            "543 [1197, 1206, 1210]\n",
            "544 [898, 908, 1212]\n",
            "545 [7153, 1213, 1204]\n",
            "546 [1104, 1136, 750]\n",
            "547 [527, 1104, 1204]\n",
            "548 [904, 1237, 1204]\n",
            "549 [750, 2329, 7361]\n",
            "550 [110, 4011, 1104]\n",
            "551 [2502, 1952, 1223]\n",
            "552 [1213, 1104, 1242]\n",
            "553 [318, 1223, 1262]\n",
            "554 [3275, 1197, 1219]\n",
            "555 [3508, 4011, 599]\n",
            "556 [1262, 1204, 3451]\n",
            "557 [912, 3468, 1209]\n",
            "558 [318, 912, 1208]\n",
            "559 [3451, 1223, 8132]\n",
            "560 [1204, 1276, 1250]\n",
            "561 [1223, 3508, 741]\n",
            "562 [608, 1104, 4973]\n",
            "563 [318, 527, 953]\n",
            "564 [1204, 608, 2160]\n",
            "565 [1104, 593, 1204]\n",
            "566 [1104, 1204, 750]\n",
            "567 [318, 1276, 2571]\n",
            "568 [1204, 1237, 1197]\n",
            "569 [1223, 1204, 1104]\n",
            "570 [1223, 1204, 2329]\n",
            "571 [318, 858, 1208]\n",
            "572 [898, 306, 7143]\n",
            "573 [904, 1250, 1209]\n",
            "574 [1223, 4973, 750]\n",
            "575 [2959, 1262, 1223]\n",
            "576 [1104, 1212, 4993]\n",
            "577 [4993, 904, 57669]\n",
            "578 [356, 2329, 318]\n",
            "579 [318, 1204, 1209]\n",
            "580 [3030, 79132, 1175]\n",
            "581 [1104, 898, 1204]\n",
            "582 [1104, 904, 1262]\n",
            "583 [318, 56782, 904]\n",
            "584 [260, 527, 318]\n",
            "585 [1104, 1204, 898]\n",
            "586 [1197, 48516, 908]\n",
            "587 [1204, 1248, 1262]\n",
            "588 [2959, 750, 1089]\n",
            "589 [58559, 106642, 750]\n",
            "590 [1223, 1104, 27773]\n",
            "591 [593, 1223, 2028]\n",
            "592 [527, 1223, 1204]\n",
            "593 [58559, 741, 1104]\n",
            "594 [260, 1097, 2078]\n",
            "595 [1104, 7361, 1276]\n",
            "596 [1104, 1204, 56782]\n",
            "597 [527, 1213, 1223]\n",
            "598 [1204, 541, 1199]\n",
            "599 [527, 1276, 247]\n",
            "600 [51931, 1201, 1104]\n",
            "601 [260, 4973, 1204]\n",
            "602 [1104, 6001, 2329]\n",
            "603 [1250, 1276, 1223]\n",
            "604 [912, 3468, 908]\n",
            "605 [1276, 904, 4973]\n",
            "606 [1104, 1262, 1203]\n",
            "607 [2959, 750, 47]\n",
            "608 [933, 1242, 7981]\n",
            "609 [5618, 1262, 50]\n",
            "610 [1250, 1223, 1148]\n"
          ],
          "name": "stdout"
        }
      ]
    },
    {
      "cell_type": "markdown",
      "metadata": {
        "id": "HS_125tdXrea"
      },
      "source": [
        "Last edited: 28.12.2020"
      ]
    }
  ]
}